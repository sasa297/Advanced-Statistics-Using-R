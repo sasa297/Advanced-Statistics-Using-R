{
 "cells": [
  {
   "cell_type": "markdown",
   "metadata": {},
   "source": [
    "## Saikiran N. Pasikanti\n",
    "### Time series"
   ]
  },
  {
   "cell_type": "markdown",
   "metadata": {},
   "source": [
    "Data Source: https://www.transtats.bts.gov/TRAFFIC/<br>\n",
    "\n",
    "Selections:\n",
    "Date: Oct 2002 to Oct 2017\n",
    "Geographic Area: System (domestic and international)\n",
    "Schedule Type: Total\n",
    "Operating Statistics: Revenue Passenger Miles\n",
    "\n",
    "(Revenue passenger miles are calculated by multiplying the number of paying passengers by the distance traveled. For example, an airplane with 100 passengers that flies 250 miles has generated 25,000 RPMs.)\n",
    "\n",
    "Problem Statement:\n",
    "1. How the data changes from month to month, year to year?\n",
    "Any trend?\n",
    "How fluctuated the curve is?\n",
    "Any seasonal effects?\n",
    "Any unusual years/months which have significantly small or large number?\n",
    "2. Forecast future value based on the time series?"
   ]
  },
  {
   "cell_type": "code",
   "execution_count": 28,
   "metadata": {},
   "outputs": [
    {
     "data": {
      "text/html": [
       "<table>\n",
       "<thead><tr><th scope=col>Period</th><th scope=col>Total</th></tr></thead>\n",
       "<tbody>\n",
       "\t<tr><td>October 2002 </td><td>54019748     </td></tr>\n",
       "\t<tr><td>November 2002</td><td>50105232     </td></tr>\n",
       "\t<tr><td>December 2002</td><td>56656594     </td></tr>\n",
       "\t<tr><td>January 2003 </td><td>51197175     </td></tr>\n",
       "\t<tr><td>February 2003</td><td>47040806     </td></tr>\n",
       "\t<tr><td>March 2003   </td><td>56765848     </td></tr>\n",
       "</tbody>\n",
       "</table>\n"
      ],
      "text/latex": [
       "\\begin{tabular}{r|ll}\n",
       " Period & Total\\\\\n",
       "\\hline\n",
       "\t October 2002  & 54019748     \\\\\n",
       "\t November 2002 & 50105232     \\\\\n",
       "\t December 2002 & 56656594     \\\\\n",
       "\t January 2003  & 51197175     \\\\\n",
       "\t February 2003 & 47040806     \\\\\n",
       "\t March 2003    & 56765848     \\\\\n",
       "\\end{tabular}\n"
      ],
      "text/markdown": [
       "\n",
       "Period | Total | \n",
       "|---|---|---|---|---|---|\n",
       "| October 2002  | 54019748      | \n",
       "| November 2002 | 50105232      | \n",
       "| December 2002 | 56656594      | \n",
       "| January 2003  | 51197175      | \n",
       "| February 2003 | 47040806      | \n",
       "| March 2003    | 56765848      | \n",
       "\n",
       "\n"
      ],
      "text/plain": [
       "  Period        Total   \n",
       "1 October 2002  54019748\n",
       "2 November 2002 50105232\n",
       "3 December 2002 56656594\n",
       "4 January 2003  51197175\n",
       "5 February 2003 47040806\n",
       "6 March 2003    56765848"
      ]
     },
     "metadata": {},
     "output_type": "display_data"
    }
   ],
   "source": [
    "## Air Traffic Control Chart \n",
    "setwd(\"C:\\\\Users\\\\saikiran\\\\Documents\\\\GitHub\\\\Advanced Statistics Using R\\\\010_Time Series\") \n",
    "temp <- read.csv(\"USCarrier_Traffic_20180128011624.csv\", skip=3) \n",
    "\n",
    "head(temp) "
   ]
  },
  {
   "cell_type": "code",
   "execution_count": 29,
   "metadata": {},
   "outputs": [
    {
     "data": {
      "text/html": [
       "'factor'"
      ],
      "text/latex": [
       "'factor'"
      ],
      "text/markdown": [
       "'factor'"
      ],
      "text/plain": [
       "[1] \"factor\""
      ]
     },
     "metadata": {},
     "output_type": "display_data"
    },
    {
     "data": {
      "text/html": [
       "<ol class=list-inline>\n",
       "\t<li>54019748</li>\n",
       "\t<li>50105232</li>\n",
       "\t<li>56656594</li>\n",
       "\t<li>51197175</li>\n",
       "\t<li>47040806</li>\n",
       "\t<li>56765848</li>\n",
       "</ol>\n"
      ],
      "text/latex": [
       "\\begin{enumerate*}\n",
       "\\item 54019748\n",
       "\\item 50105232\n",
       "\\item 56656594\n",
       "\\item 51197175\n",
       "\\item 47040806\n",
       "\\item 56765848\n",
       "\\end{enumerate*}\n"
      ],
      "text/markdown": [
       "1. 54019748\n",
       "2. 50105232\n",
       "3. 56656594\n",
       "4. 51197175\n",
       "5. 47040806\n",
       "6. 56765848\n",
       "\n",
       "\n"
      ],
      "text/plain": [
       "[1] 54019748 50105232 56656594 51197175 47040806 56765848"
      ]
     },
     "metadata": {},
     "output_type": "display_data"
    },
    {
     "name": "stdout",
     "output_type": "stream",
     "text": [
      "'data.frame':\t181 obs. of  2 variables:\n",
      " $ Period: Factor w/ 182 levels \"April 2003\",\"April 2004\",..: 151 136 31 61 46 106 1 121 91 76 ...\n",
      " $ Total : num  54019748 50105232 56656594 51197175 47040806 ...\n"
     ]
    }
   ],
   "source": [
    "dataset <- as.data.frame(temp[-182,], names=T) \n",
    "class(dataset$Total) \n",
    "dataset$Total <- as.numeric(as.character(dataset$Total)) \n",
    "head(dataset$Total)\n",
    "str(dataset) "
   ]
  },
  {
   "cell_type": "code",
   "execution_count": 30,
   "metadata": {},
   "outputs": [
    {
     "data": {
      "text/html": [
       "<ol class=list-inline>\n",
       "\t<li>54019748</li>\n",
       "\t<li>50105232</li>\n",
       "\t<li>56656594</li>\n",
       "\t<li>51197175</li>\n",
       "\t<li>47040806</li>\n",
       "\t<li>56765848</li>\n",
       "</ol>\n"
      ],
      "text/latex": [
       "\\begin{enumerate*}\n",
       "\\item 54019748\n",
       "\\item 50105232\n",
       "\\item 56656594\n",
       "\\item 51197175\n",
       "\\item 47040806\n",
       "\\item 56765848\n",
       "\\end{enumerate*}\n"
      ],
      "text/markdown": [
       "1. 54019748\n",
       "2. 50105232\n",
       "3. 56656594\n",
       "4. 51197175\n",
       "5. 47040806\n",
       "6. 56765848\n",
       "\n",
       "\n"
      ],
      "text/plain": [
       "[1] 54019748 50105232 56656594 51197175 47040806 56765848"
      ]
     },
     "metadata": {},
     "output_type": "display_data"
    }
   ],
   "source": [
    "### Data for Time Series #### \n",
    "airtraf <- dataset[,-1] \n",
    "head(airtraf)\n",
    "## time series object ## With reference to \"dataset\" observations are from October 2002 to October 2017 "
   ]
  },
  {
   "cell_type": "code",
   "execution_count": 31,
   "metadata": {},
   "outputs": [
    {
     "name": "stdout",
     "output_type": "stream",
     "text": [
      "          Jan      Feb      Mar      Apr      May      Jun      Jul      Aug\n",
      "2002                                                                        \n",
      "2003 51197175 47040806 56765848 51857179 54335598 60272900 65962215 64989766\n",
      "2004 53979780 53179685 64035863 62340117 62530704 68866389 73335888 70961513\n",
      "2005 59629608 55795165 70595861 65145550 68268899 72952958 77432998 73778917\n",
      "2006 61035027 56729212 70799794 68120558 69352605 74085927 77798585 74227040\n",
      "2007 63016013 57793832 72700241 69836156 71933109 76926452 80988340 79439827\n",
      "2008 64667106 61504426 74575531 68906881 72725749 76162104 79707545 77300567\n",
      "2009 58373783 53506580 66027341 65166298 65868253 71350226 77136797 74614770\n",
      "2010 59651061 53240065 68307089 64953249 68850904 74474550 79304441 76741308\n",
      "2011 61630362 55391206 70158268 67683558 71711447 76057910 81423230 77247893\n",
      "2012 61940192 58243794 71696202 68668302 71887531 76760758 80499331 78609006\n",
      "2013 63139218 58109870 72764478 68453537 73574534 78467131 81974582 80007788\n",
      "2014 64743622 58474895 74237172 71278692 75712694 80063355 84404541 81957559\n",
      "2015 66538427 60331343 76271051 73607258 78502353 83253406 88951665 85855967\n",
      "2016 69778658 65026219 79121758 75617423 81226985 87042101 91256833 86708517\n",
      "2017 71863052 64648038 81276185 79917608 83921422 90112473 94623610 90963785\n",
      "          Sep      Oct      Nov      Dec\n",
      "2002          54019748 50105232 56656594\n",
      "2003 52121480 56724442 54128776 58739845\n",
      "2004 57881031 63021122 59453941 62680310\n",
      "2005 62046797 63640895 61518984 64289340\n",
      "2006 62345732 66082158 63548729 65980779\n",
      "2007 65913298 69445349 66250428 67782533\n",
      "2008 61198749 65018204 58512623 63503416\n",
      "2009 61435354 64274739 59011015 63231672\n",
      "2010 65341294 69071625 63334290 65797939\n",
      "2011 66345317 68177878 63492941 66595642\n",
      "2012 66007760 67677764 64039209 66702988\n",
      "2013 67203059 69727370 63611195 70967038\n",
      "2014 69028857 71887841 65654285 72233639\n",
      "2015 73017729 76678056 70460064 75327875\n",
      "2016 75735169 77790769 72625058 77310977\n",
      "2017 75075798 81141740                  \n"
     ]
    }
   ],
   "source": [
    "## All the 12 months data has been provided \n",
    "AT <- ts(airtraf, start=c(2002,10), end =c(2017,10), frequency = 12 ) \n",
    "print(AT) "
   ]
  },
  {
   "cell_type": "code",
   "execution_count": 32,
   "metadata": {},
   "outputs": [
    {
     "data": {
      "image/png": "[encoded data removed]",
      "text/plain": [
       "plot without title"
      ]
     },
     "metadata": {},
     "output_type": "display_data"
    }
   ],
   "source": [
    "plot(AT,las=1) \n",
    "grid()"
   ]
  },
  {
   "cell_type": "markdown",
   "metadata": {},
   "source": [
    "The plot clear shows that it is non-stationary series.\n",
    "We can see from the time plot that this time series could probably be described using an additive model, since the random fluctuations in the data are roughly constant in size over time."
   ]
  },
  {
   "cell_type": "code",
   "execution_count": 33,
   "metadata": {},
   "outputs": [
    {
     "data": {
      "image/png": "[encoded data removed]",
      "text/plain": [
       "plot without title"
      ]
     },
     "metadata": {},
     "output_type": "display_data"
    }
   ],
   "source": [
    "plot(cycle(AT),AT, type=\"l\", las=1) \n",
    "grid()"
   ]
  },
  {
   "cell_type": "markdown",
   "metadata": {},
   "source": [
    "From April to July – total revenue passenger miles increasing linearly.\n",
    "From December to February – total revenue passenger miles decreasing linearly.\n",
    "February and September – has sudden down points.\n",
    "While March and July – peak revenue passenger miles.\n",
    "From Year to Year – the revenue shows a secular upward trend"
   ]
  },
  {
   "cell_type": "code",
   "execution_count": 34,
   "metadata": {},
   "outputs": [
    {
     "data": {
      "image/png": "[encoded data removed]",
      "text/plain": [
       "plot without title"
      ]
     },
     "metadata": {},
     "output_type": "display_data"
    }
   ],
   "source": [
    "plot(aggregate(AT), las=1)"
   ]
  },
  {
   "cell_type": "code",
   "execution_count": 35,
   "metadata": {},
   "outputs": [
    {
     "data": {
      "text/html": [
       "<ol class=list-inline>\n",
       "\t<li>51197175</li>\n",
       "\t<li>56765848</li>\n",
       "\t<li>51857179</li>\n",
       "\t<li>79917608</li>\n",
       "\t<li>54335598</li>\n",
       "\t<li>83921422</li>\n",
       "\t<li>60272900</li>\n",
       "\t<li>90112473</li>\n",
       "\t<li>65962215</li>\n",
       "\t<li>94623610</li>\n",
       "\t<li>90963785</li>\n",
       "\t<li>52121480</li>\n",
       "\t<li>81141740</li>\n",
       "\t<li>50105232</li>\n",
       "</ol>\n"
      ],
      "text/latex": [
       "\\begin{enumerate*}\n",
       "\\item 51197175\n",
       "\\item 56765848\n",
       "\\item 51857179\n",
       "\\item 79917608\n",
       "\\item 54335598\n",
       "\\item 83921422\n",
       "\\item 60272900\n",
       "\\item 90112473\n",
       "\\item 65962215\n",
       "\\item 94623610\n",
       "\\item 90963785\n",
       "\\item 52121480\n",
       "\\item 81141740\n",
       "\\item 50105232\n",
       "\\end{enumerate*}\n"
      ],
      "text/markdown": [
       "1. 51197175\n",
       "2. 56765848\n",
       "3. 51857179\n",
       "4. 79917608\n",
       "5. 54335598\n",
       "6. 83921422\n",
       "7. 60272900\n",
       "8. 90112473\n",
       "9. 65962215\n",
       "10. 94623610\n",
       "11. 90963785\n",
       "12. 52121480\n",
       "13. 81141740\n",
       "14. 50105232\n",
       "\n",
       "\n"
      ],
      "text/plain": [
       " [1] 51197175 56765848 51857179 79917608 54335598 83921422 60272900 90112473\n",
       " [9] 65962215 94623610 90963785 52121480 81141740 50105232"
      ]
     },
     "metadata": {},
     "output_type": "display_data"
    },
    {
     "data": {
      "image/png": "[encoded data removed]",
      "text/plain": [
       "plot without title"
      ]
     },
     "metadata": {},
     "output_type": "display_data"
    }
   ],
   "source": [
    "a <- boxplot(AT~cycle(AT),las=1, col=\"bisque\", outcol=\"red\", pch=20) \n",
    "a$out"
   ]
  },
  {
   "cell_type": "markdown",
   "metadata": {},
   "source": [
    "Any unusual years/months which have significantly small or large number?\n",
    "As seen in the above seasonal boxplot, the list of unsual data are as follows:"
   ]
  },
  {
   "cell_type": "markdown",
   "metadata": {},
   "source": [
    "So, for above month-years, the total revenue passenger miles records have unsual data points."
   ]
  },
  {
   "cell_type": "code",
   "execution_count": 36,
   "metadata": {},
   "outputs": [
    {
     "data": {
      "image/png": "[encoded data removed]",
      "text/plain": [
       "plot without title"
      ]
     },
     "metadata": {},
     "output_type": "display_data"
    }
   ],
   "source": [
    "### Smoothed Wavform ##### \n",
    "library(TTR) \n",
    "asm <- SMA(AT,n=12) \n",
    "plot.ts(asm)"
   ]
  },
  {
   "cell_type": "code",
   "execution_count": 49,
   "metadata": {},
   "outputs": [],
   "source": [
    "### Decomposing ##### \n",
    "ATD <- decompose(AT) \n",
    "## type = additive by default, you can use multiplicative also  "
   ]
  },
  {
   "cell_type": "code",
   "execution_count": 50,
   "metadata": {},
   "outputs": [
    {
     "data": {
      "image/png": "[encoded data removed]",
      "text/plain": [
       "plot without title"
      ]
     },
     "metadata": {},
     "output_type": "display_data"
    }
   ],
   "source": [
    "plot(ATD) \n",
    "grid()"
   ]
  },
  {
   "cell_type": "markdown",
   "metadata": {},
   "source": [
    "Any trend?\n",
    "Yes, there is a upward trend.\n",
    "Any seasonal effects?\n",
    "Yes, there is a seasonal effect observed in the given data\n",
    "and the seasonal components are:"
   ]
  },
  {
   "cell_type": "code",
   "execution_count": 51,
   "metadata": {},
   "outputs": [
    {
     "data": {
      "text/plain": [
       "           Jan       Feb       Mar       Apr       May       Jun       Jul\n",
       "2002                                                                      \n",
       "2003  -6579747 -11600322   2582094   -822307   2196799   7086505  11495015\n",
       "2004  -6579747 -11600322   2582094   -822307   2196799   7086505  11495015\n",
       "2005  -6579747 -11600322   2582094   -822307   2196799   7086505  11495015\n",
       "2006  -6579747 -11600322   2582094   -822307   2196799   7086505  11495015\n",
       "2007  -6579747 -11600322   2582094   -822307   2196799   7086505  11495015\n",
       "2008  -6579747 -11600322   2582094   -822307   2196799   7086505  11495015\n",
       "2009  -6579747 -11600322   2582094   -822307   2196799   7086505  11495015\n",
       "2010  -6579747 -11600322   2582094   -822307   2196799   7086505  11495015\n",
       "2011  -6579747 -11600322   2582094   -822307   2196799   7086505  11495015\n",
       "2012  -6579747 -11600322   2582094   -822307   2196799   7086505  11495015\n",
       "2013  -6579747 -11600322   2582094   -822307   2196799   7086505  11495015\n",
       "2014  -6579747 -11600322   2582094   -822307   2196799   7086505  11495015\n",
       "2015  -6579747 -11600322   2582094   -822307   2196799   7086505  11495015\n",
       "2016  -6579747 -11600322   2582094   -822307   2196799   7086505  11495015\n",
       "2017  -6579747 -11600322   2582094   -822307   2196799   7086505  11495015\n",
       "           Aug       Sep       Oct       Nov       Dec\n",
       "2002                      -1112045  -5824802  -2037202\n",
       "2003   8685639  -4069626  -1112045  -5824802  -2037202\n",
       "2004   8685639  -4069626  -1112045  -5824802  -2037202\n",
       "2005   8685639  -4069626  -1112045  -5824802  -2037202\n",
       "2006   8685639  -4069626  -1112045  -5824802  -2037202\n",
       "2007   8685639  -4069626  -1112045  -5824802  -2037202\n",
       "2008   8685639  -4069626  -1112045  -5824802  -2037202\n",
       "2009   8685639  -4069626  -1112045  -5824802  -2037202\n",
       "2010   8685639  -4069626  -1112045  -5824802  -2037202\n",
       "2011   8685639  -4069626  -1112045  -5824802  -2037202\n",
       "2012   8685639  -4069626  -1112045  -5824802  -2037202\n",
       "2013   8685639  -4069626  -1112045  -5824802  -2037202\n",
       "2014   8685639  -4069626  -1112045  -5824802  -2037202\n",
       "2015   8685639  -4069626  -1112045  -5824802  -2037202\n",
       "2016   8685639  -4069626  -1112045  -5824802  -2037202\n",
       "2017   8685639  -4069626  -1112045                    "
      ]
     },
     "metadata": {},
     "output_type": "display_data"
    }
   ],
   "source": [
    "ATD$seasonal"
   ]
  },
  {
   "cell_type": "code",
   "execution_count": 41,
   "metadata": {},
   "outputs": [
    {
     "data": {
      "text/html": [
       "<ol class=list-inline>\n",
       "\t<li>-1112044.85636574</li>\n",
       "\t<li>-5824802.08553241</li>\n",
       "\t<li>-2037202.31469907</li>\n",
       "\t<li>-6579746.90993717</li>\n",
       "\t<li>-11600322.2373181</li>\n",
       "\t<li>2582093.71208664</li>\n",
       "\t<li>-822307.008548281</li>\n",
       "\t<li>2196799.14661045</li>\n",
       "\t<li>7086504.61982474</li>\n",
       "\t<li>11495015.0841104</li>\n",
       "\t<li>8685638.95018188</li>\n",
       "\t<li>-4069626.10041336</li>\n",
       "</ol>\n"
      ],
      "text/latex": [
       "\\begin{enumerate*}\n",
       "\\item -1112044.85636574\n",
       "\\item -5824802.08553241\n",
       "\\item -2037202.31469907\n",
       "\\item -6579746.90993717\n",
       "\\item -11600322.2373181\n",
       "\\item 2582093.71208664\n",
       "\\item -822307.008548281\n",
       "\\item 2196799.14661045\n",
       "\\item 7086504.61982474\n",
       "\\item 11495015.0841104\n",
       "\\item 8685638.95018188\n",
       "\\item -4069626.10041336\n",
       "\\end{enumerate*}\n"
      ],
      "text/markdown": [
       "1. -1112044.85636574\n",
       "2. -5824802.08553241\n",
       "3. -2037202.31469907\n",
       "4. -6579746.90993717\n",
       "5. -11600322.2373181\n",
       "6. 2582093.71208664\n",
       "7. -822307.008548281\n",
       "8. 2196799.14661045\n",
       "9. 7086504.61982474\n",
       "10. 11495015.0841104\n",
       "11. 8685638.95018188\n",
       "12. -4069626.10041336\n",
       "\n",
       "\n"
      ],
      "text/plain": [
       " [1]  -1112045  -5824802  -2037202  -6579747 -11600322   2582094   -822307\n",
       " [8]   2196799   7086505  11495015   8685639  -4069626"
      ]
     },
     "metadata": {},
     "output_type": "display_data"
    }
   ],
   "source": [
    "ATD$figure"
   ]
  },
  {
   "cell_type": "code",
   "execution_count": 42,
   "metadata": {},
   "outputs": [
    {
     "data": {
      "text/html": [
       "'additive'"
      ],
      "text/latex": [
       "'additive'"
      ],
      "text/markdown": [
       "'additive'"
      ],
      "text/plain": [
       "[1] \"additive\""
      ]
     },
     "metadata": {},
     "output_type": "display_data"
    }
   ],
   "source": [
    "ATD$type "
   ]
  },
  {
   "cell_type": "code",
   "execution_count": 43,
   "metadata": {},
   "outputs": [
    {
     "data": {
      "text/plain": [
       "              Jan          Feb          Mar          Apr          May\n",
       "2002                                                                 \n",
       "2003           NA           NA           NA -2876921.325 -3697951.730\n",
       "2004   452368.702  4116789.862   301747.830  1508059.592 -1804703.105\n",
       "2005  1061821.493  1959849.071  2287163.705    41855.967    34231.478\n",
       "2006   696953.285  1377809.029  1234847.663  1845837.467  -127513.688\n",
       "2007   947117.952   395406.362   753551.371  1005085.550  -169771.355\n",
       "2008   603421.702  2603819.321  1778083.746  -105261.616  1201373.145\n",
       "2009  -400487.673   -28092.638 -1587697.920   976778.967 -1330160.813\n",
       "2010   375383.993 -1193960.929  -560706.129  -872763.158  -374221.022\n",
       "2011  -396811.298 -1724782.554 -1203078.504  -277982.616   761429.228\n",
       "2012  -814871.965   491088.112  -281568.004   129835.675   328035.437\n",
       "2013  -179572.715  -308096.763    56008.580  -985736.075  1048588.437\n",
       "2014  -278001.215 -1708641.638  -286095.962    -6269.783  1233477.687\n",
       "2015  -710502.923 -2248908.763  -820253.379  -445440.950  1030714.812\n",
       "2016 -1079685.423  -943120.679 -1178747.212 -1438271.200  1015613.520\n",
       "2017 -1127991.882 -3640015.763 -1344113.754   589559.967           NA\n",
       "              Jun          Jul          Aug          Sep          Oct\n",
       "2002                                                               NA\n",
       "2003 -2904804.995 -1826744.459  -361545.825 -1033270.691  -127596.310\n",
       "2004  -744791.495 -1083398.501  -992785.200 -1700313.733    91969.731\n",
       "2005  -324501.370  -378573.876 -1320756.492  -345027.275 -1840966.394\n",
       "2006  -438946.495 -1287816.667 -2176885.784 -1426473.191  -798296.977\n",
       "2007  -253777.703  -744268.792   293190.716  -710818.400  -175765.935\n",
       "2008   248727.755  -173823.376   824040.133 -1833094.650  -459188.685\n",
       "2009  -747336.953   588826.333   834060.341   326024.684   121715.981\n",
       "2010    72655.255   304637.124   378778.508  1567266.225  2149120.648\n",
       "2011   178338.672  1089000.999  -408727.284  1261023.350    30891.523\n",
       "2012   284323.047  -440046.584   434625.300   549713.017  -773427.185\n",
       "2013   891645.130  -253933.251   506589.341   380553.767  -231793.519\n",
       "2014   556529.422   361646.374   571904.966   236371.059   -43994.727\n",
       "2015   562895.047  1588707.458   971756.133   574383.892  1074593.315\n",
       "2016  1768186.714  1404929.249  -405102.825  1302803.975   131880.565\n",
       "2017           NA           NA           NA           NA           NA\n",
       "              Nov          Dec\n",
       "2002           NA           NA\n",
       "2003  1211243.086  1335187.523\n",
       "2004   881561.461   -89034.477\n",
       "2005   580766.752  -528838.477\n",
       "2006  1202027.002  -379398.977\n",
       "2007  1347763.419  -908910.185\n",
       "2008 -1810425.831  -121008.685\n",
       "2009  -544650.873  -366050.935\n",
       "2010   891590.711  -617522.685\n",
       "2011    10343.919  -711177.019\n",
       "2012   239431.794 -1025779.644\n",
       "2013 -1842016.081  1570627.815\n",
       "2014 -1778052.873   764546.773\n",
       "2015  -627924.664   180897.940\n",
       "2016  -612515.789    45603.065\n",
       "2017                          "
      ]
     },
     "metadata": {},
     "output_type": "display_data"
    }
   ],
   "source": [
    "ATD$random"
   ]
  },
  {
   "cell_type": "markdown",
   "metadata": {},
   "source": [
    "How fluctuated the curve is?\n",
    "For each year, the total revenue passenger miles is widely fluctuating between February and July (approximately by 2000000 for each year).\n",
    "\n",
    "\n",
    "Random fluctuations in the data are roughly constant in size over time.\n",
    "Seasonal fluctuations are roughly constant in size over time and do not seem to depend on the level of the time series."
   ]
  },
  {
   "cell_type": "code",
   "execution_count": 52,
   "metadata": {},
   "outputs": [
    {
     "name": "stderr",
     "output_type": "stream",
     "text": [
      "also installing the dependencies 'quadprog', 'tseries', 'fracdiff', 'lmtest', 'RcppArmadillo'\n",
      "\n"
     ]
    },
    {
     "name": "stdout",
     "output_type": "stream",
     "text": [
      "package 'quadprog' successfully unpacked and MD5 sums checked\n",
      "package 'tseries' successfully unpacked and MD5 sums checked\n",
      "package 'fracdiff' successfully unpacked and MD5 sums checked\n",
      "package 'lmtest' successfully unpacked and MD5 sums checked\n",
      "package 'RcppArmadillo' successfully unpacked and MD5 sums checked\n",
      "package 'forecast' successfully unpacked and MD5 sums checked\n",
      "\n",
      "The downloaded binary packages are in\n",
      "\tC:\\Users\\saikiran\\AppData\\Local\\Temp\\RtmpyUZivW\\downloaded_packages\n"
     ]
    },
    {
     "data": {
      "image/png": "[encoded data removed]",
      "text/plain": [
       "Plot with title \"\""
      ]
     },
     "metadata": {},
     "output_type": "display_data"
    }
   ],
   "source": [
    "#### FORECASTING ####\n",
    "#install.packages(\"forecast\")\n",
    "library(forecast) \n",
    "tsdisplay(diff(AT)) "
   ]
  },
  {
   "cell_type": "code",
   "execution_count": 47,
   "metadata": {},
   "outputs": [
    {
     "data": {
      "text/plain": [
       "\n",
       "Call:\n",
       "arima(x = AT, order = c(p = 2, d = 1, q = 1))\n",
       "\n",
       "Coefficients:\n",
       "          ar1      ar2     ma1\n",
       "      -1.1037  -0.3941  0.9814\n",
       "s.e.   0.0692   0.0688  0.0210\n",
       "\n",
       "sigma^2 estimated as 3.529e+13:  log likelihood = -3064.01,  aic = 6136.02"
      ]
     },
     "metadata": {},
     "output_type": "display_data"
    },
    {
     "ename": "ERROR",
     "evalue": "Error in forecast(ATF1, h = 12): could not find function \"forecast\"\n",
     "output_type": "error",
     "traceback": [
      "Error in forecast(ATF1, h = 12): could not find function \"forecast\"\nTraceback:\n"
     ]
    }
   ],
   "source": [
    "#### Using ARIMA Model #### \n",
    "ATF1 <- arima(AT, order = c(p=2,d=1,q=1)) \n",
    "ATF1 \n",
    "forecast(ATF1, h=12)"
   ]
  },
  {
   "cell_type": "code",
   "execution_count": null,
   "metadata": {},
   "outputs": [],
   "source": [
    "plot(forecast(ATF1, h=12))"
   ]
  },
  {
   "cell_type": "code",
   "execution_count": null,
   "metadata": {},
   "outputs": [],
   "source": [
    "#### Using AUTO ARIMA Model #### \n",
    "ATF2 <- auto.arima(AT) plot(forecast(auto.arima(AT), h=12)) ATF2$fitted"
   ]
  },
  {
   "cell_type": "code",
   "execution_count": null,
   "metadata": {},
   "outputs": [],
   "source": []
  },
  {
   "cell_type": "code",
   "execution_count": null,
   "metadata": {},
   "outputs": [],
   "source": []
  }
 ],
 "metadata": {
  "kernelspec": {
   "display_name": "R",
   "language": "R",
   "name": "ir"
  },
  "language_info": {
   "codemirror_mode": "r",
   "file_extension": ".r",
   "mimetype": "text/x-r-source",
   "name": "R",
   "pygments_lexer": "r",
   "version": "3.4.3"
  }
 },
 "nbformat": 4,
 "nbformat_minor": 2
}
