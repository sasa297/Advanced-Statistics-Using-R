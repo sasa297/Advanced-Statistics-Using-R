{
 "cells": [
  {
   "cell_type": "markdown",
   "metadata": {},
   "source": [
    "## Saikiran N. Pasikanti\n",
    "### Confidence Interval - one sample"
   ]
  },
  {
   "cell_type": "markdown",
   "metadata": {},
   "source": [
    "#### Question1  #######################################################################\n",
    "A sample of Alzheimer's patients is tested to assess the amount of time in stage IV sleep. \n",
    "It has been hypothesized that individuals sufferering from Alzheimer's disease may spend \n",
    "less time per night in the deeper stages of sleep. Number of minutes spent is Stage IV sleep \n",
    "is recorded for sixty-one patients. The sample produced a mean of 48 minutes (S=14 minutes) \n",
    "of stage IV sleep over a 24 hour period of time. Compute a 95 percent confidence interval \n",
    "for this data. What does this information tell you about a particular individual's \n",
    "(an Alzheimer's patient) stage IV sleep?"
   ]
  },
  {
   "cell_type": "code",
   "execution_count": 1,
   "metadata": {},
   "outputs": [],
   "source": [
    "n = 61    # Number of samples\n",
    "mn = 48   # Mean Value\n",
    "sd = 14   # Standard Deviation"
   ]
  },
  {
   "cell_type": "code",
   "execution_count": 2,
   "metadata": {},
   "outputs": [],
   "source": [
    "### Conditions\n",
    "# We assume SRS samples of 61\n",
    "# Sample size > 61, We assume symmetry, t-distribution\n",
    "# Each point is independent"
   ]
  },
  {
   "cell_type": "code",
   "execution_count": 3,
   "metadata": {},
   "outputs": [
    {
     "data": {
      "text/html": [
       "-2.00029782201426"
      ],
      "text/latex": [
       "-2.00029782201426"
      ],
      "text/markdown": [
       "-2.00029782201426"
      ],
      "text/plain": [
       "[1] -2.000298"
      ]
     },
     "metadata": {},
     "output_type": "display_data"
    }
   ],
   "source": [
    "### Calculating Confidence Interval of 95%\n",
    "df = n - 1\n",
    "z = qt(0.025, df) # (1-0.95)/2 = 0.025\n",
    "z                # -2.0002"
   ]
  },
  {
   "cell_type": "code",
   "execution_count": 4,
   "metadata": {},
   "outputs": [
    {
     "data": {
      "text/html": [
       "51.5855664889418"
      ],
      "text/latex": [
       "51.5855664889418"
      ],
      "text/markdown": [
       "51.5855664889418"
      ],
      "text/plain": [
       "[1] 51.58557"
      ]
     },
     "metadata": {},
     "output_type": "display_data"
    },
    {
     "data": {
      "text/html": [
       "44.4144335110582"
      ],
      "text/latex": [
       "44.4144335110582"
      ],
      "text/markdown": [
       "44.4144335110582"
      ],
      "text/plain": [
       "[1] 44.41443"
      ]
     },
     "metadata": {},
     "output_type": "display_data"
    }
   ],
   "source": [
    "mn - z*(sd/sqrt(n))  # 51.5855\n",
    "mn + z*(sd/sqrt(n))  # 44.4144"
   ]
  },
  {
   "cell_type": "code",
   "execution_count": 5,
   "metadata": {},
   "outputs": [],
   "source": [
    "### conclusion\n",
    "# So we can claim  with 95% confidence that the population means for  individuals suffering   \n",
    "# from Alzimers disease spend 44 minutes TO 52 minutes time in stage iV sleep. \n",
    "######################################################################################"
   ]
  },
  {
   "cell_type": "markdown",
   "metadata": {},
   "source": [
    "#### Question2  #######################################################################\n",
    "A university wants to know more about the knowledge of students regarding international events. \n",
    "They are concerned that their students are uninformed in regards to new from other countries. \n",
    "A standardized test is used to assess students knowledge of world events (national reported mean=65, S=5). \n",
    "A sample of 30 students are tested (sample mean=58, Standard Error=3.2). Compute a 99 percent \n",
    "confidence interval based on this sample's data. How do these students compare to the national sample?\n"
   ]
  },
  {
   "cell_type": "code",
   "execution_count": 6,
   "metadata": {},
   "outputs": [],
   "source": [
    "mnx = 58\n",
    "sdx = 3.2\n",
    "n = 30"
   ]
  },
  {
   "cell_type": "code",
   "execution_count": 7,
   "metadata": {},
   "outputs": [],
   "source": [
    "### Conditions\n",
    "# We assume SRS sampling\n",
    "# Sample size = 30, we use Normal-Distribution\n",
    "# Each point is independent"
   ]
  },
  {
   "cell_type": "code",
   "execution_count": 8,
   "metadata": {},
   "outputs": [
    {
     "data": {
      "text/html": [
       "-2.5758293035489"
      ],
      "text/latex": [
       "-2.5758293035489"
      ],
      "text/markdown": [
       "-2.5758293035489"
      ],
      "text/plain": [
       "[1] -2.575829"
      ]
     },
     "metadata": {},
     "output_type": "display_data"
    }
   ],
   "source": [
    "### Calculating Confidence Interval of 99%\n",
    "df = n-1\n",
    "t = qnorm(0.005)       # (1-0.99)/2=0.005\n",
    "t"
   ]
  },
  {
   "cell_type": "code",
   "execution_count": 9,
   "metadata": {},
   "outputs": [
    {
     "data": {
      "text/html": [
       "59.5048958014257"
      ],
      "text/latex": [
       "59.5048958014257"
      ],
      "text/markdown": [
       "59.5048958014257"
      ],
      "text/plain": [
       "[1] 59.5049"
      ]
     },
     "metadata": {},
     "output_type": "display_data"
    },
    {
     "data": {
      "text/html": [
       "56.4951041985743"
      ],
      "text/latex": [
       "56.4951041985743"
      ],
      "text/markdown": [
       "56.4951041985743"
      ],
      "text/plain": [
       "[1] 56.4951"
      ]
     },
     "metadata": {},
     "output_type": "display_data"
    }
   ],
   "source": [
    "mnx - t*sdx/sqrt(n)   # 59.5049\n",
    "mnx + t*sdx/sqrt(n)   # 56.4951\n",
    "\n",
    "### Conclusion \n",
    "# We are 99% confident that average score is between 56.4951 and 59.4951\n",
    "# These students seems to be below national average.\n",
    "\n",
    "# Since the confidence interval mean does not include national mean we can say that the sample does not \n",
    "# correctly represent the data. The university can take further samples and compare their results"
   ]
  },
  {
   "cell_type": "markdown",
   "metadata": {},
   "source": [
    "#### Question3  #######################################################################\n",
    "A sample of students from an introductory psychology class were polled regarding the number \n",
    "of hours they spent studying for the last exam. All students anonymously submitted the number\n",
    "of hours on a 3 by 5 card. There were 24 individuals in the one section of the course polled. \n",
    "The data was used to make inferences regarding the other students taking the course. \n",
    "Compute a 95 percent confidence interval. What does this tell us?"
   ]
  },
  {
   "cell_type": "code",
   "execution_count": 10,
   "metadata": {},
   "outputs": [
    {
     "data": {
      "text/html": [
       "10.9166666666667"
      ],
      "text/latex": [
       "10.9166666666667"
      ],
      "text/markdown": [
       "10.9166666666667"
      ],
      "text/plain": [
       "[1] 10.91667"
      ]
     },
     "metadata": {},
     "output_type": "display_data"
    },
    {
     "data": {
      "text/html": [
       "5.59826577701925"
      ],
      "text/latex": [
       "5.59826577701925"
      ],
      "text/markdown": [
       "5.59826577701925"
      ],
      "text/plain": [
       "[1] 5.598266"
      ]
     },
     "metadata": {},
     "output_type": "display_data"
    }
   ],
   "source": [
    "data <- c(4.5,22,7,14.5,9,9,3.5,8,11,7.5,18,20,7.5,9,10.5,15,19,2.5,5,9,8.5,14,20,8)\n",
    "n = 24\n",
    "mn = mean(data)\n",
    "mn\n",
    "sd = sd(data)\n",
    "sd"
   ]
  },
  {
   "cell_type": "code",
   "execution_count": 11,
   "metadata": {},
   "outputs": [],
   "source": [
    "### Conditions\n",
    "# We assume SRS samples\n",
    "# Since sample size is small, we use t-distribution\n",
    "# Each point is independent"
   ]
  },
  {
   "cell_type": "code",
   "execution_count": 12,
   "metadata": {},
   "outputs": [
    {
     "data": {
      "text/html": [
       "-2.06865761041905"
      ],
      "text/latex": [
       "-2.06865761041905"
      ],
      "text/markdown": [
       "-2.06865761041905"
      ],
      "text/plain": [
       "[1] -2.068658"
      ]
     },
     "metadata": {},
     "output_type": "display_data"
    }
   ],
   "source": [
    "# Calculating confidence interval of 95%\n",
    "df = n-1\n",
    "t = qt(0.025, df)   # (1-0.95)/2 = 0.025\n",
    "t"
   ]
  },
  {
   "cell_type": "code",
   "execution_count": 13,
   "metadata": {},
   "outputs": [
    {
     "data": {
      "text/html": [
       "8.55272635238292"
      ],
      "text/latex": [
       "8.55272635238292"
      ],
      "text/markdown": [
       "8.55272635238292"
      ],
      "text/plain": [
       "[1] 8.552726"
      ]
     },
     "metadata": {},
     "output_type": "display_data"
    },
    {
     "data": {
      "text/html": [
       "13.2806069809504"
      ],
      "text/latex": [
       "13.2806069809504"
      ],
      "text/markdown": [
       "13.2806069809504"
      ],
      "text/plain": [
       "[1] 13.28061"
      ]
     },
     "metadata": {},
     "output_type": "display_data"
    }
   ],
   "source": [
    "mn + t*(sd/sqrt(n))  # 8.5527\n",
    "mn - t*(sd/sqrt(n))  # 13.2806"
   ]
  },
  {
   "cell_type": "code",
   "execution_count": 14,
   "metadata": {},
   "outputs": [],
   "source": [
    "### conclusion\n",
    "# So we can say with 95% confidence that the students studied between 8.5527 hours to\n",
    "# 13.2806 hours for their final exam.There is 5% chance that students did not study \n",
    "# for that much amount of time and stuedied for more hours or less hours."
   ]
  }
 ],
 "metadata": {
  "kernelspec": {
   "display_name": "R",
   "language": "R",
   "name": "ir"
  },
  "language_info": {
   "codemirror_mode": "r",
   "file_extension": ".r",
   "mimetype": "text/x-r-source",
   "name": "R",
   "pygments_lexer": "r",
   "version": "3.4.3"
  }
 },
 "nbformat": 4,
 "nbformat_minor": 2
}
