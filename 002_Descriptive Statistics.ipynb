{
 "cells": [
  {
   "cell_type": "markdown",
   "metadata": {},
   "source": [
    "## Saikiran N. Pasikanti\n",
    "### Descriptive Statistics"
   ]
  },
  {
   "cell_type": "markdown",
   "metadata": {},
   "source": [
    "\n",
    "Use inbuilt data set: “airquality” and solve the following questions.<br>\n",
    "[Comment on findings (Comments may be comparative/ Descriptive)]"
   ]
  },
  {
   "cell_type": "code",
   "execution_count": 1,
   "metadata": {},
   "outputs": [
    {
     "data": {
      "text/html": [
       "<table>\n",
       "<thead><tr><th scope=col>Ozone</th><th scope=col>Solar.R</th><th scope=col>Wind</th><th scope=col>Temp</th><th scope=col>Month</th><th scope=col>Day</th></tr></thead>\n",
       "<tbody>\n",
       "\t<tr><td>41  </td><td>190 </td><td> 7.4</td><td>67  </td><td>5   </td><td>1   </td></tr>\n",
       "\t<tr><td>36  </td><td>118 </td><td> 8.0</td><td>72  </td><td>5   </td><td>2   </td></tr>\n",
       "\t<tr><td>12  </td><td>149 </td><td>12.6</td><td>74  </td><td>5   </td><td>3   </td></tr>\n",
       "\t<tr><td>18  </td><td>313 </td><td>11.5</td><td>62  </td><td>5   </td><td>4   </td></tr>\n",
       "\t<tr><td>NA  </td><td> NA </td><td>14.3</td><td>56  </td><td>5   </td><td>5   </td></tr>\n",
       "\t<tr><td>28  </td><td> NA </td><td>14.9</td><td>66  </td><td>5   </td><td>6   </td></tr>\n",
       "</tbody>\n",
       "</table>\n"
      ],
      "text/latex": [
       "\\begin{tabular}{r|llllll}\n",
       " Ozone & Solar.R & Wind & Temp & Month & Day\\\\\n",
       "\\hline\n",
       "\t 41   & 190  &  7.4 & 67   & 5    & 1   \\\\\n",
       "\t 36   & 118  &  8.0 & 72   & 5    & 2   \\\\\n",
       "\t 12   & 149  & 12.6 & 74   & 5    & 3   \\\\\n",
       "\t 18   & 313  & 11.5 & 62   & 5    & 4   \\\\\n",
       "\t NA   &  NA  & 14.3 & 56   & 5    & 5   \\\\\n",
       "\t 28   &  NA  & 14.9 & 66   & 5    & 6   \\\\\n",
       "\\end{tabular}\n"
      ],
      "text/markdown": [
       "\n",
       "Ozone | Solar.R | Wind | Temp | Month | Day | \n",
       "|---|---|---|---|---|---|\n",
       "| 41   | 190  |  7.4 | 67   | 5    | 1    | \n",
       "| 36   | 118  |  8.0 | 72   | 5    | 2    | \n",
       "| 12   | 149  | 12.6 | 74   | 5    | 3    | \n",
       "| 18   | 313  | 11.5 | 62   | 5    | 4    | \n",
       "| NA   |  NA  | 14.3 | 56   | 5    | 5    | \n",
       "| 28   |  NA  | 14.9 | 66   | 5    | 6    | \n",
       "\n",
       "\n"
      ],
      "text/plain": [
       "  Ozone Solar.R Wind Temp Month Day\n",
       "1 41    190      7.4 67   5     1  \n",
       "2 36    118      8.0 72   5     2  \n",
       "3 12    149     12.6 74   5     3  \n",
       "4 18    313     11.5 62   5     4  \n",
       "5 NA     NA     14.3 56   5     5  \n",
       "6 28     NA     14.9 66   5     6  "
      ]
     },
     "metadata": {},
     "output_type": "display_data"
    }
   ],
   "source": [
    "# Loading the data set \"airquality\" \n",
    "data(airquality) \n",
    "head(airquality) "
   ]
  },
  {
   "cell_type": "code",
   "execution_count": 7,
   "metadata": {},
   "outputs": [
    {
     "data": {
      "text/plain": [
       "     Ozone           Solar.R           Wind             Temp      \n",
       " Min.   :  1.00   Min.   :  7.0   Min.   : 1.700   Min.   :56.00  \n",
       " 1st Qu.: 18.00   1st Qu.:115.8   1st Qu.: 7.400   1st Qu.:72.00  \n",
       " Median : 31.50   Median :205.0   Median : 9.700   Median :79.00  \n",
       " Mean   : 42.13   Mean   :185.9   Mean   : 9.958   Mean   :77.88  \n",
       " 3rd Qu.: 63.25   3rd Qu.:258.8   3rd Qu.:11.500   3rd Qu.:85.00  \n",
       " Max.   :168.00   Max.   :334.0   Max.   :20.700   Max.   :97.00  \n",
       " NA's   :37       NA's   :7                                       \n",
       "     Month            Day      \n",
       " Min.   :5.000   Min.   : 1.0  \n",
       " 1st Qu.:6.000   1st Qu.: 8.0  \n",
       " Median :7.000   Median :16.0  \n",
       " Mean   :6.993   Mean   :15.8  \n",
       " 3rd Qu.:8.000   3rd Qu.:23.0  \n",
       " Max.   :9.000   Max.   :31.0  \n",
       "                               "
      ]
     },
     "metadata": {},
     "output_type": "display_data"
    },
    {
     "name": "stderr",
     "output_type": "stream",
     "text": [
      "The following objects are masked from airquality (pos = 3):\n",
      "\n",
      "    Day, Month, Ozone, Solar.R, Temp, Wind\n",
      "\n"
     ]
    }
   ],
   "source": [
    "summary(airquality) \n",
    "# For convenience, we have attached the data set \n",
    "attach(airquality)"
   ]
  },
  {
   "cell_type": "markdown",
   "metadata": {},
   "source": [
    "1. Find Arithmetic Mean of variable Temp (i.e. numeric Temperature, degrees F)."
   ]
  },
  {
   "cell_type": "code",
   "execution_count": 3,
   "metadata": {},
   "outputs": [
    {
     "data": {
      "text/html": [
       "77.8823529411765"
      ],
      "text/latex": [
       "77.8823529411765"
      ],
      "text/markdown": [
       "77.8823529411765"
      ],
      "text/plain": [
       "[1] 77.88235"
      ]
     },
     "metadata": {},
     "output_type": "display_data"
    }
   ],
   "source": [
    "mean(Temp) # mean value of Temp is 77.88235 degrees F "
   ]
  },
  {
   "cell_type": "code",
   "execution_count": 4,
   "metadata": {},
   "outputs": [
    {
     "data": {
      "text/html": [
       "77.88"
      ],
      "text/latex": [
       "77.88"
      ],
      "text/markdown": [
       "77.88"
      ],
      "text/plain": [
       "[1] 77.88"
      ]
     },
     "metadata": {},
     "output_type": "display_data"
    }
   ],
   "source": [
    "# mean value of Temp after rouding off \n",
    "round(mean(Temp),digits=2) \n",
    "# The average value of Temperature (of New York city for the given three month data) is around 77.88 degrees F"
   ]
  },
  {
   "cell_type": "markdown",
   "metadata": {},
   "source": [
    "2. Find Median of variable Temp (i.e. numeric Temperature, degrees F)."
   ]
  },
  {
   "cell_type": "code",
   "execution_count": 6,
   "metadata": {},
   "outputs": [
    {
     "data": {
      "text/html": [
       "79"
      ],
      "text/latex": [
       "79"
      ],
      "text/markdown": [
       "79"
      ],
      "text/plain": [
       "[1] 79"
      ]
     },
     "metadata": {},
     "output_type": "display_data"
    }
   ],
   "source": [
    "median(Temp) \n",
    "# median value of Temp is 79 degrees F \n",
    "# 79 degrees F is the middle most value of all observations of variable Temp \n",
    "# One-half of the data lie above this observation, and one-half of the data lie below it"
   ]
  },
  {
   "cell_type": "markdown",
   "metadata": {},
   "source": [
    "3. Find Variance of variable Temp (i.e. numeric Temperature, degrees F)."
   ]
  },
  {
   "cell_type": "code",
   "execution_count": 10,
   "metadata": {},
   "outputs": [
    {
     "data": {
      "text/html": [
       "89.5913312693499"
      ],
      "text/latex": [
       "89.5913312693499"
      ],
      "text/markdown": [
       "89.5913312693499"
      ],
      "text/plain": [
       "[1] 89.59133"
      ]
     },
     "metadata": {},
     "output_type": "display_data"
    }
   ],
   "source": [
    "# the variance of the numbers is the sum of squared deviations of each value from the mean value, divided by the sample size minus one. \n",
    "v <- var(Temp)\n",
    "v\n",
    "# The variance of the variable Temp is 89.59133 degrees F "
   ]
  },
  {
   "cell_type": "code",
   "execution_count": 11,
   "metadata": {},
   "outputs": [
    {
     "data": {
      "text/html": [
       "89.59"
      ],
      "text/latex": [
       "89.59"
      ],
      "text/markdown": [
       "89.59"
      ],
      "text/plain": [
       "[1] 89.59"
      ]
     },
     "metadata": {},
     "output_type": "display_data"
    }
   ],
   "source": [
    "# The value of variance of Temp after rounding off \n",
    "round(v,digits=2) \n",
    "# The value of Variance is 89.59 degrees F \n",
    "# the data are spread more widely around the mean=89.59"
   ]
  },
  {
   "cell_type": "markdown",
   "metadata": {},
   "source": [
    "4. Find Arithmetic Mean of variable Ozone (i.e. numeric Ozone, ppb)."
   ]
  },
  {
   "cell_type": "code",
   "execution_count": 12,
   "metadata": {},
   "outputs": [
    {
     "data": {
      "text/html": [
       "42.1293103448276"
      ],
      "text/latex": [
       "42.1293103448276"
      ],
      "text/markdown": [
       "42.1293103448276"
      ],
      "text/plain": [
       "[1] 42.12931"
      ]
     },
     "metadata": {},
     "output_type": "display_data"
    }
   ],
   "source": [
    "mean(Ozone,na.rm=T) # the value of mean removing the missing values is 42,12931 \n",
    "# replcacing the missing values of Ozone with median value "
   ]
  },
  {
   "cell_type": "code",
   "execution_count": 13,
   "metadata": {},
   "outputs": [
    {
     "data": {
      "text/html": [
       "0"
      ],
      "text/latex": [
       "0"
      ],
      "text/markdown": [
       "0"
      ],
      "text/plain": [
       "[1] 0"
      ]
     },
     "metadata": {},
     "output_type": "display_data"
    }
   ],
   "source": [
    "Ozone[is.na(Ozone)] <- median(Ozone,na.rm=T) \n",
    "sum(is.na(Ozone)) \n",
    "# this step verifies that there are no missing values "
   ]
  },
  {
   "cell_type": "code",
   "execution_count": 14,
   "metadata": {},
   "outputs": [
    {
     "data": {
      "text/html": [
       "39.5588235294118"
      ],
      "text/latex": [
       "39.5588235294118"
      ],
      "text/markdown": [
       "39.5588235294118"
      ],
      "text/plain": [
       "[1] 39.55882"
      ]
     },
     "metadata": {},
     "output_type": "display_data"
    }
   ],
   "source": [
    "mean(Ozone) \n",
    "# the mean value of Ozone is 39.55 after replacing the missing values with median"
   ]
  },
  {
   "cell_type": "markdown",
   "metadata": {},
   "source": [
    "5. How you will get all the summary of all given variables in single command?"
   ]
  },
  {
   "cell_type": "code",
   "execution_count": 15,
   "metadata": {},
   "outputs": [
    {
     "data": {
      "text/plain": [
       "     Ozone           Solar.R           Wind             Temp      \n",
       " Min.   :  1.00   Min.   :  7.0   Min.   : 1.700   Min.   :56.00  \n",
       " 1st Qu.: 18.00   1st Qu.:115.8   1st Qu.: 7.400   1st Qu.:72.00  \n",
       " Median : 31.50   Median :205.0   Median : 9.700   Median :79.00  \n",
       " Mean   : 42.13   Mean   :185.9   Mean   : 9.958   Mean   :77.88  \n",
       " 3rd Qu.: 63.25   3rd Qu.:258.8   3rd Qu.:11.500   3rd Qu.:85.00  \n",
       " Max.   :168.00   Max.   :334.0   Max.   :20.700   Max.   :97.00  \n",
       " NA's   :37       NA's   :7                                       \n",
       "     Month            Day      \n",
       " Min.   :5.000   Min.   : 1.0  \n",
       " 1st Qu.:6.000   1st Qu.: 8.0  \n",
       " Median :7.000   Median :16.0  \n",
       " Mean   :6.993   Mean   :15.8  \n",
       " 3rd Qu.:8.000   3rd Qu.:23.0  \n",
       " Max.   :9.000   Max.   :31.0  \n",
       "                               "
      ]
     },
     "metadata": {},
     "output_type": "display_data"
    }
   ],
   "source": [
    "summary(airquality) \n",
    "# By using command summary(airquality), we can get the summary all given variables \n",
    "# The result of this command mainly show the mean,median,quantile values etc."
   ]
  }
 ],
 "metadata": {
  "kernelspec": {
   "display_name": "R",
   "language": "R",
   "name": "ir"
  },
  "language_info": {
   "codemirror_mode": "r",
   "file_extension": ".r",
   "mimetype": "text/x-r-source",
   "name": "R",
   "pygments_lexer": "r",
   "version": "3.4.3"
  }
 },
 "nbformat": 4,
 "nbformat_minor": 2
}
