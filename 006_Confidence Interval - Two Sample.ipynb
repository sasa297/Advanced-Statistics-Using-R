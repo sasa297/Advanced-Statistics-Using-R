{
 "cells": [
  {
   "cell_type": "markdown",
   "metadata": {},
   "source": [
    "## Saikiran N. Pasikanti\n",
    "### Confidence Interval - Two Sample"
   ]
  },
  {
   "cell_type": "markdown",
   "metadata": {},
   "source": [
    "#### Question1  #######################################################################\n",
    "The local baseball team conducts a study to find the amount spent on refreshments at the ball park. \n",
    "Over the course of the season they gather simple random samples of 500 men and 1000 women. \n",
    "For men, the average expenditure was $20, with a standard deviation of $3. For women, it was $15, \n",
    "with a standard deviation of $2. What is the 99% confidence interval for the spending difference \n",
    "between men and women?"
   ]
  },
  {
   "cell_type": "code",
   "execution_count": 11,
   "metadata": {},
   "outputs": [],
   "source": [
    "n1 = 500  # for men \n",
    "n2 = 1000 # for women\n",
    "\n",
    "x1 = 20   # mean for men\n",
    "x2 = 15   # mean for women\n",
    "\n",
    "sd1 = 3   # standard deviation for men\n",
    "sd2 = 2   # standard deviation for women"
   ]
  },
  {
   "cell_type": "code",
   "execution_count": 12,
   "metadata": {},
   "outputs": [],
   "source": [
    "### Conditions\n",
    "# Simple Random Samples\n",
    "# Sample size is large, we use Normal-distribution\n",
    "# Each sample is independent"
   ]
  },
  {
   "cell_type": "code",
   "execution_count": 13,
   "metadata": {},
   "outputs": [
    {
     "data": {
      "text/html": [
       "-2.5758293035489"
      ],
      "text/latex": [
       "-2.5758293035489"
      ],
      "text/markdown": [
       "-2.5758293035489"
      ],
      "text/plain": [
       "[1] -2.575829"
      ]
     },
     "metadata": {},
     "output_type": "display_data"
    },
    {
     "data": {
      "text/html": [
       "4.61794277232008"
      ],
      "text/latex": [
       "4.61794277232008"
      ],
      "text/markdown": [
       "4.61794277232008"
      ],
      "text/plain": [
       "[1] 4.617943"
      ]
     },
     "metadata": {},
     "output_type": "display_data"
    },
    {
     "data": {
      "text/html": [
       "5.38205722767992"
      ],
      "text/latex": [
       "5.38205722767992"
      ],
      "text/markdown": [
       "5.38205722767992"
      ],
      "text/plain": [
       "[1] 5.382057"
      ]
     },
     "metadata": {},
     "output_type": "display_data"
    }
   ],
   "source": [
    "### Calculating Confidence Interval of 99%\n",
    "z1 = qnorm(p=0.005) # (1-0.99)/2 = 0.005\n",
    "z1                   \n",
    "\n",
    "(x1-x2) + z1*sqrt((sd1^2/n1)+(sd2^2/n2))   # 4.6179\n",
    "(x1-x2) - z1*sqrt((sd1^2/n1)+(sd2^2/n2))   # 5.3821"
   ]
  },
  {
   "cell_type": "code",
   "execution_count": 14,
   "metadata": {},
   "outputs": [],
   "source": [
    "##### Conclusion\n",
    "# We can say with 99% confidence that the difference of spending \n",
    "# between men and women is in the range of $4.62 to $5.38"
   ]
  },
  {
   "cell_type": "markdown",
   "metadata": {},
   "source": [
    "#### Question2  #######################################################################\n",
    "Suppose that simple random samples of college freshman are selected from two universities - 15 students \n",
    "from school A and 20 students from school B. On a standardized test, the sample from school A has an \n",
    "average score of 1000 with a standard deviation of 100. The sample from school B has an average score of \n",
    "950 with a standard deviation of 90.\n",
    "What is the 90% confidence interval for the difference in test scores at the two schools, assuming that \n",
    "test scores came from normal distributions in both schools?\n"
   ]
  },
  {
   "cell_type": "code",
   "execution_count": 1,
   "metadata": {},
   "outputs": [],
   "source": [
    "n1 = 15    # No. of students from school A\n",
    "n2 = 20    # No. of students from school B\n",
    "\n",
    "x1 = 1000  # Mean of marks from school A \n",
    "x2 = 950   # Mean of marks from school B\n",
    "\n",
    "sd1 = 100  # Standard Deviation of marks from school A\n",
    "sd2 = 90   # Standard Deviation of marks from school B"
   ]
  },
  {
   "cell_type": "code",
   "execution_count": 2,
   "metadata": {},
   "outputs": [],
   "source": [
    "### Conditions\n",
    "# Simple Random Samples\n",
    "# Sample size is small, we use t-distribution\n",
    "# Each sample is independent"
   ]
  },
  {
   "cell_type": "code",
   "execution_count": 3,
   "metadata": {},
   "outputs": [
    {
     "data": {
      "text/html": [
       "28.4422976160981"
      ],
      "text/latex": [
       "28.4422976160981"
      ],
      "text/markdown": [
       "28.4422976160981"
      ],
      "text/plain": [
       "[1] 28.4423"
      ]
     },
     "metadata": {},
     "output_type": "display_data"
    }
   ],
   "source": [
    "### Calculating degree of freedom\n",
    "df = ((sd1^2/n1) + (sd2^2/n2))^2/((1/(n1-1)*(sd1^2/n1)^2) + (1/(n2-1)*(sd2^2/n2)^2))\n",
    "df         # df = 28.4423"
   ]
  },
  {
   "cell_type": "code",
   "execution_count": 4,
   "metadata": {},
   "outputs": [
    {
     "data": {
      "text/html": [
       "-1.70022665799562"
      ],
      "text/latex": [
       "-1.70022665799562"
      ],
      "text/markdown": [
       "-1.70022665799562"
      ],
      "text/plain": [
       "[1] -1.700227"
      ]
     },
     "metadata": {},
     "output_type": "display_data"
    },
    {
     "data": {
      "text/html": [
       "-5.65916445569135"
      ],
      "text/latex": [
       "-5.65916445569135"
      ],
      "text/markdown": [
       "-5.65916445569135"
      ],
      "text/plain": [
       "[1] -5.659164"
      ]
     },
     "metadata": {},
     "output_type": "display_data"
    },
    {
     "data": {
      "text/html": [
       "105.659164455691"
      ],
      "text/latex": [
       "105.659164455691"
      ],
      "text/markdown": [
       "105.659164455691"
      ],
      "text/plain": [
       "[1] 105.6592"
      ]
     },
     "metadata": {},
     "output_type": "display_data"
    }
   ],
   "source": [
    "### Calculating Confidence Interval of 90%\n",
    "z = qt(0.05,df)      # (1-90)/2 = 0.05 \n",
    "z                    # z = -1.7002\n",
    "\n",
    "(x1-x2)+z*sqrt((sd1^2/n1) + (sd2^2/n2))    # -5.6591\n",
    "(x1-x2)-z*sqrt((sd1^2/n1) + (sd2^2/n2))    # 105.6592"
   ]
  },
  {
   "cell_type": "code",
   "execution_count": 5,
   "metadata": {},
   "outputs": [],
   "source": [
    "### conclusion\n",
    "# We can say with 90% confidence that the difference between \n",
    "# the sample means of test scores is between -5.66 to 105.66"
   ]
  },
  {
   "cell_type": "markdown",
   "metadata": {},
   "source": [
    "#### Question3  #######################################################################\n",
    "The feeding habits of two-species of spiders are studied. The species, the DEINOPIS and \n",
    "MENNEUS, coexist in eastern Australia. The following summary statistics were obtained on \n",
    "the size, in millimeters, of the prey of the two species:\n",
    "Estimate, with 95% confidence, the ratio of the two population variances."
   ]
  },
  {
   "cell_type": "code",
   "execution_count": 6,
   "metadata": {},
   "outputs": [],
   "source": [
    "n = 10        # for ADULT DEINOPIS species\n",
    "xbar = 10.26  \n",
    "sx= 2.51"
   ]
  },
  {
   "cell_type": "code",
   "execution_count": 7,
   "metadata": {},
   "outputs": [],
   "source": [
    "m = 10        # for ADULT MENNEUS species\n",
    "ybar = 9.02   \n",
    "sy = 1.90"
   ]
  },
  {
   "cell_type": "code",
   "execution_count": 8,
   "metadata": {},
   "outputs": [],
   "source": [
    "### Calculating f-statistics\n",
    "r1 = n - 1    # for sample of DEINOPIS\n",
    "r2 = m - 1    # for sample of MENNEUS\n",
    "f1 = qf(0.025, r2, r1)    # f1 = 0.2483\n",
    "f2 = qf(0.975, r2, r1)    # f2 = 4.0259"
   ]
  },
  {
   "cell_type": "code",
   "execution_count": 9,
   "metadata": {},
   "outputs": [
    {
     "data": {
      "text/html": [
       "0.433478039656658"
      ],
      "text/latex": [
       "0.433478039656658"
      ],
      "text/markdown": [
       "0.433478039656658"
      ],
      "text/plain": [
       "[1] 0.433478"
      ]
     },
     "metadata": {},
     "output_type": "display_data"
    },
    {
     "data": {
      "text/html": [
       "7.02608470819905"
      ],
      "text/latex": [
       "7.02608470819905"
      ],
      "text/markdown": [
       "7.02608470819905"
      ],
      "text/plain": [
       "[1] 7.026085"
      ]
     },
     "metadata": {},
     "output_type": "display_data"
    }
   ],
   "source": [
    "### Calculating Ratio of Variances \n",
    "f1*(sx^2/sy^2)   # 0.4335\n",
    "f2*(sx^2/sy^2)   # 7.0260"
   ]
  },
  {
   "cell_type": "code",
   "execution_count": 10,
   "metadata": {},
   "outputs": [],
   "source": [
    "### Conclusion\n",
    "# We can conclude with 95% confidence that the raion of variance \n",
    "# of the two species is between 0.433 to 7.026\n",
    "######################################################################################"
   ]
  }
 ],
 "metadata": {
  "kernelspec": {
   "display_name": "R",
   "language": "R",
   "name": "ir"
  },
  "language_info": {
   "codemirror_mode": "r",
   "file_extension": ".r",
   "mimetype": "text/x-r-source",
   "name": "R",
   "pygments_lexer": "r",
   "version": "3.4.3"
  }
 },
 "nbformat": 4,
 "nbformat_minor": 2
}
