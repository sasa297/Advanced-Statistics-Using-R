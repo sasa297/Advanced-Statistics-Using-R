{
 "cells": [
  {
   "cell_type": "markdown",
   "metadata": {},
   "source": [
    "## Saikiran N. Pasikanti\n",
    "### Naive Bayes Model"
   ]
  },
  {
   "cell_type": "markdown",
   "metadata": {},
   "source": [
    "Use diamonds dataset in ggplot2 package and Perform Naive Bayes Classification.\n",
    "- a)Divide the dataset into Train and Test Samples.\n",
    "- b)Build Naive Bayes Model for classification of diamond$cut Variable.\n",
    "- c)Find Confusion Matrix and Give accuracy, precision and recall."
   ]
  },
  {
   "cell_type": "code",
   "execution_count": 2,
   "metadata": {},
   "outputs": [],
   "source": [
    "################  READING THE DATASET                  ######################\n",
    "library(ggplot2)                                       # Back up of Original dataset\n",
    "data(\"diamonds\")                                       # loading the diamonds data set from ggplot2 package\n",
    "data <- diamonds                                       # saving the data set as data"
   ]
  },
  {
   "cell_type": "code",
   "execution_count": 3,
   "metadata": {},
   "outputs": [
    {
     "data": {
      "text/html": [
       "<table>\n",
       "<thead><tr><th scope=col>carat</th><th scope=col>cut</th><th scope=col>color</th><th scope=col>clarity</th><th scope=col>depth</th><th scope=col>table</th><th scope=col>price</th><th scope=col>x</th><th scope=col>y</th><th scope=col>z</th></tr></thead>\n",
       "<tbody>\n",
       "\t<tr><td>0.23     </td><td>Ideal    </td><td>E        </td><td>SI2      </td><td>61.5     </td><td>55       </td><td>326      </td><td>3.95     </td><td>3.98     </td><td>2.43     </td></tr>\n",
       "\t<tr><td>0.21     </td><td>Premium  </td><td>E        </td><td>SI1      </td><td>59.8     </td><td>61       </td><td>326      </td><td>3.89     </td><td>3.84     </td><td>2.31     </td></tr>\n",
       "\t<tr><td>0.23     </td><td>Good     </td><td>E        </td><td>VS1      </td><td>56.9     </td><td>65       </td><td>327      </td><td>4.05     </td><td>4.07     </td><td>2.31     </td></tr>\n",
       "\t<tr><td>0.29     </td><td>Premium  </td><td>I        </td><td>VS2      </td><td>62.4     </td><td>58       </td><td>334      </td><td>4.20     </td><td>4.23     </td><td>2.63     </td></tr>\n",
       "\t<tr><td>0.31     </td><td>Good     </td><td>J        </td><td>SI2      </td><td>63.3     </td><td>58       </td><td>335      </td><td>4.34     </td><td>4.35     </td><td>2.75     </td></tr>\n",
       "\t<tr><td>0.24     </td><td>Very Good</td><td>J        </td><td>VVS2     </td><td>62.8     </td><td>57       </td><td>336      </td><td>3.94     </td><td>3.96     </td><td>2.48     </td></tr>\n",
       "</tbody>\n",
       "</table>\n"
      ],
      "text/latex": [
       "\\begin{tabular}{r|llllllllll}\n",
       " carat & cut & color & clarity & depth & table & price & x & y & z\\\\\n",
       "\\hline\n",
       "\t 0.23      & Ideal     & E         & SI2       & 61.5      & 55        & 326       & 3.95      & 3.98      & 2.43     \\\\\n",
       "\t 0.21      & Premium   & E         & SI1       & 59.8      & 61        & 326       & 3.89      & 3.84      & 2.31     \\\\\n",
       "\t 0.23      & Good      & E         & VS1       & 56.9      & 65        & 327       & 4.05      & 4.07      & 2.31     \\\\\n",
       "\t 0.29      & Premium   & I         & VS2       & 62.4      & 58        & 334       & 4.20      & 4.23      & 2.63     \\\\\n",
       "\t 0.31      & Good      & J         & SI2       & 63.3      & 58        & 335       & 4.34      & 4.35      & 2.75     \\\\\n",
       "\t 0.24      & Very Good & J         & VVS2      & 62.8      & 57        & 336       & 3.94      & 3.96      & 2.48     \\\\\n",
       "\\end{tabular}\n"
      ],
      "text/markdown": [
       "\n",
       "carat | cut | color | clarity | depth | table | price | x | y | z | \n",
       "|---|---|---|---|---|---|\n",
       "| 0.23      | Ideal     | E         | SI2       | 61.5      | 55        | 326       | 3.95      | 3.98      | 2.43      | \n",
       "| 0.21      | Premium   | E         | SI1       | 59.8      | 61        | 326       | 3.89      | 3.84      | 2.31      | \n",
       "| 0.23      | Good      | E         | VS1       | 56.9      | 65        | 327       | 4.05      | 4.07      | 2.31      | \n",
       "| 0.29      | Premium   | I         | VS2       | 62.4      | 58        | 334       | 4.20      | 4.23      | 2.63      | \n",
       "| 0.31      | Good      | J         | SI2       | 63.3      | 58        | 335       | 4.34      | 4.35      | 2.75      | \n",
       "| 0.24      | Very Good | J         | VVS2      | 62.8      | 57        | 336       | 3.94      | 3.96      | 2.48      | \n",
       "\n",
       "\n"
      ],
      "text/plain": [
       "  carat cut       color clarity depth table price x    y    z   \n",
       "1 0.23  Ideal     E     SI2     61.5  55    326   3.95 3.98 2.43\n",
       "2 0.21  Premium   E     SI1     59.8  61    326   3.89 3.84 2.31\n",
       "3 0.23  Good      E     VS1     56.9  65    327   4.05 4.07 2.31\n",
       "4 0.29  Premium   I     VS2     62.4  58    334   4.20 4.23 2.63\n",
       "5 0.31  Good      J     SI2     63.3  58    335   4.34 4.35 2.75\n",
       "6 0.24  Very Good J     VVS2    62.8  57    336   3.94 3.96 2.48"
      ]
     },
     "metadata": {},
     "output_type": "display_data"
    }
   ],
   "source": [
    "head(data)"
   ]
  },
  {
   "cell_type": "code",
   "execution_count": 4,
   "metadata": {},
   "outputs": [
    {
     "data": {
      "text/html": [
       "<ol class=list-inline>\n",
       "\t<li>53940</li>\n",
       "\t<li>10</li>\n",
       "</ol>\n"
      ],
      "text/latex": [
       "\\begin{enumerate*}\n",
       "\\item 53940\n",
       "\\item 10\n",
       "\\end{enumerate*}\n"
      ],
      "text/markdown": [
       "1. 53940\n",
       "2. 10\n",
       "\n",
       "\n"
      ],
      "text/plain": [
       "[1] 53940    10"
      ]
     },
     "metadata": {},
     "output_type": "display_data"
    }
   ],
   "source": [
    "dim(data)"
   ]
  },
  {
   "cell_type": "code",
   "execution_count": 5,
   "metadata": {},
   "outputs": [
    {
     "data": {
      "image/png": "[encoded data removed]",
      "text/plain": [
       "plot without title"
      ]
     },
     "metadata": {},
     "output_type": "display_data"
    }
   ],
   "source": [
    "## Cleaning the Outliers\n",
    "boxplot(data[,8:10])"
   ]
  },
  {
   "cell_type": "code",
   "execution_count": 6,
   "metadata": {},
   "outputs": [
    {
     "data": {
      "text/html": [
       "<ol class=list-inline>\n",
       "\t<li>53918</li>\n",
       "\t<li>10</li>\n",
       "</ol>\n"
      ],
      "text/latex": [
       "\\begin{enumerate*}\n",
       "\\item 53918\n",
       "\\item 10\n",
       "\\end{enumerate*}\n"
      ],
      "text/markdown": [
       "1. 53918\n",
       "2. 10\n",
       "\n",
       "\n"
      ],
      "text/plain": [
       "[1] 53918    10"
      ]
     },
     "metadata": {},
     "output_type": "display_data"
    }
   ],
   "source": [
    "data <- data[ !(data$x==0 | data$y==0 | data$z ==0 | data$y >=20 | data$y >=20 ), ]\n",
    "\n",
    "dim(data)"
   ]
  },
  {
   "cell_type": "code",
   "execution_count": 7,
   "metadata": {},
   "outputs": [],
   "source": [
    "################  DATASET SPLITTING = TRAIN / TEST    ######################\n",
    "## Train data = 75%, Test Data = 25%\n",
    "\n",
    "library(caTools)                                      # load required library\n",
    "set.seed(123)                                         # for reproducibility\n",
    "split1  = sample.split(data$cut, SplitRatio = 0.75)\n",
    "d.train = subset(data, split1 == TRUE)                # train data set\n",
    "d.test  = subset(data, split1 == FALSE)               # test data set"
   ]
  },
  {
   "cell_type": "code",
   "execution_count": 8,
   "metadata": {},
   "outputs": [
    {
     "data": {
      "text/plain": [
       "\n",
       "Naive Bayes Classifier for Discrete Predictors\n",
       "\n",
       "Call:\n",
       "naiveBayes.default(x = d.train[, -c(2)], y = d.train$cut)\n",
       "\n",
       "A-priori probabilities:\n",
       "d.train$cut\n",
       "      Fair       Good  Very Good    Premium      Ideal \n",
       "0.02984816 0.09090459 0.22407142 0.25555171 0.39962412 \n",
       "\n",
       "Conditional probabilities:\n",
       "           carat\n",
       "d.train$cut      [,1]      [,2]\n",
       "  Fair      1.0507539 0.5230845\n",
       "  Good      0.8473912 0.4491622\n",
       "  Very Good 0.8087783 0.4582954\n",
       "  Premium   0.8909464 0.5183120\n",
       "  Ideal     0.7058428 0.4350441\n",
       "\n",
       "           color\n",
       "d.train$cut          D          E          F          G          H          I\n",
       "  Fair      0.10273405 0.13670257 0.18392709 0.20463960 0.18806959 0.10687655\n",
       "  Good      0.13438520 0.18307943 0.18879217 0.18008705 0.13846572 0.11099021\n",
       "  Very Good 0.12404812 0.19589449 0.17856749 0.18838980 0.15693632 0.10120296\n",
       "  Premium   0.11757306 0.17011806 0.17002129 0.20930908 0.17002129 0.10489646\n",
       "  Ideal     0.13483911 0.17920792 0.17797030 0.22431931 0.14603960 0.09511139\n",
       "           color\n",
       "d.train$cut          J\n",
       "  Fair      0.07705054\n",
       "  Good      0.06420022\n",
       "  Very Good 0.05496082\n",
       "  Premium   0.05806077\n",
       "  Ideal     0.04251238\n",
       "\n",
       "           clarity\n",
       "d.train$cut          I1         SI2         SI1         VS2         VS1\n",
       "  Fair      0.131731566 0.295774648 0.263463132 0.144159072 0.105219553\n",
       "  Good      0.018226333 0.217627856 0.316920566 0.201849837 0.134385201\n",
       "  Very Good 0.006401059 0.176691314 0.268623772 0.214104403 0.147665821\n",
       "  Premium   0.015289336 0.214050706 0.258273660 0.246951810 0.142442423\n",
       "  Ideal     0.006868812 0.121163366 0.199504950 0.235148515 0.167636139\n",
       "           clarity\n",
       "d.train$cut        VVS2        VVS1          IF\n",
       "  Fair      0.042253521 0.010770505 0.006628003\n",
       "  Good      0.059575626 0.037268770 0.014145811\n",
       "  Very Good 0.101534047 0.063569142 0.021410440\n",
       "  Premium   0.061737952 0.044513257 0.016740855\n",
       "  Ideal     0.119678218 0.095173267 0.054826733\n",
       "\n",
       "           depth\n",
       "d.train$cut     [,1]      [,2]\n",
       "  Fair      64.06313 3.6172552\n",
       "  Good      62.36344 2.1621749\n",
       "  Very Good 61.81151 1.3829556\n",
       "  Premium   61.27299 1.1544138\n",
       "  Ideal     61.71268 0.7227703\n",
       "\n",
       "           table\n",
       "d.train$cut     [,1]     [,2]\n",
       "  Fair      59.07506 4.031170\n",
       "  Good      58.69606 2.845545\n",
       "  Very Good 57.96309 2.128061\n",
       "  Premium   58.73583 1.477626\n",
       "  Ideal     55.95644 1.241186\n",
       "\n",
       "           price\n",
       "d.train$cut     [,1]     [,2]\n",
       "  Fair      4365.796 3557.071\n",
       "  Good      3904.106 3618.410\n",
       "  Very Good 3995.126 3940.495\n",
       "  Premium   4581.813 4376.323\n",
       "  Ideal     3486.432 3839.984\n",
       "\n",
       "           x\n",
       "d.train$cut     [,1]      [,2]\n",
       "  Fair      6.256686 0.9578816\n",
       "  Good      5.839524 1.0432240\n",
       "  Very Good 5.749421 1.0961155\n",
       "  Premium   5.969381 1.1917088\n",
       "  Ideal     5.515088 1.0666346\n",
       "\n",
       "           y\n",
       "d.train$cut     [,1]      [,2]\n",
       "  Fair      6.195899 0.9504337\n",
       "  Good      5.852165 1.0373633\n",
       "  Very Good 5.778527 1.0979207\n",
       "  Premium   5.936651 1.1796651\n",
       "  Ideal     5.525901 1.0625609\n",
       "\n",
       "           z\n",
       "d.train$cut     [,1]      [,2]\n",
       "  Fair      3.990969 0.6516828\n",
       "  Good      3.642315 0.6438188\n",
       "  Very Good 3.562265 0.6797671\n",
       "  Premium   3.647671 0.7275004\n",
       "  Ideal     3.406588 0.6583370\n"
      ]
     },
     "metadata": {},
     "output_type": "display_data"
    },
    {
     "data": {
      "text/plain": [
       "        Length Class  Mode     \n",
       "apriori 5      table  numeric  \n",
       "tables  9      -none- list     \n",
       "levels  5      -none- character\n",
       "call    3      -none- call     "
      ]
     },
     "metadata": {},
     "output_type": "display_data"
    }
   ],
   "source": [
    "################  NAIVEBAYES MODEL                    ######################\n",
    "library(e1071)\n",
    "nb.model <- naiveBayes(d.train[,-c(2)], d.train$cut)\n",
    "nb.model\n",
    "summary(nb.model)"
   ]
  },
  {
   "cell_type": "code",
   "execution_count": 9,
   "metadata": {},
   "outputs": [],
   "source": [
    "# Lets predict this on test data\n",
    "nb.pred <- predict(nb.model, d.test[-2])"
   ]
  },
  {
   "cell_type": "code",
   "execution_count": 10,
   "metadata": {},
   "outputs": [
    {
     "name": "stdout",
     "output_type": "stream",
     "text": [
      "\n",
      " \n",
      "   Cell Contents\n",
      "|-------------------------|\n",
      "|                       N |\n",
      "|         N / Table Total |\n",
      "|-------------------------|\n",
      "\n",
      " \n",
      "Total Observations in Table:  13480 \n",
      "\n",
      " \n",
      "               | RPART Predicted Default \n",
      "Actual Default |      Fair |      Good | Very Good |   Premium |     Ideal | Row Total | \n",
      "---------------|-----------|-----------|-----------|-----------|-----------|-----------|\n",
      "          Fair |       173 |       196 |        21 |        10 |         2 |       402 | \n",
      "               |     0.013 |     0.015 |     0.002 |     0.001 |     0.000 |           | \n",
      "---------------|-----------|-----------|-----------|-----------|-----------|-----------|\n",
      "          Good |        98 |       248 |       508 |       178 |       194 |      1226 | \n",
      "               |     0.007 |     0.018 |     0.038 |     0.013 |     0.014 |           | \n",
      "---------------|-----------|-----------|-----------|-----------|-----------|-----------|\n",
      "     Very Good |        42 |       106 |       802 |       916 |      1154 |      3020 | \n",
      "               |     0.003 |     0.008 |     0.059 |     0.068 |     0.086 |           | \n",
      "---------------|-----------|-----------|-----------|-----------|-----------|-----------|\n",
      "       Premium |        20 |        70 |       579 |      2002 |       774 |      3445 | \n",
      "               |     0.001 |     0.005 |     0.043 |     0.149 |     0.057 |           | \n",
      "---------------|-----------|-----------|-----------|-----------|-----------|-----------|\n",
      "         Ideal |        33 |         7 |       162 |       638 |      4547 |      5387 | \n",
      "               |     0.002 |     0.001 |     0.012 |     0.047 |     0.337 |           | \n",
      "---------------|-----------|-----------|-----------|-----------|-----------|-----------|\n",
      "  Column Total |       366 |       627 |      2072 |      3744 |      6671 |     13480 | \n",
      "---------------|-----------|-----------|-----------|-----------|-----------|-----------|\n",
      "\n",
      " \n"
     ]
    }
   ],
   "source": [
    "# create confusion matrix\n",
    "library(gmodels)\n",
    "\n",
    "m2 <- CrossTable(d.test$cut, nb.pred, \n",
    "                 prop.chisq = FALSE, prop.c = FALSE, prop.r = FALSE,\n",
    "                 dnn = c('Actual Default', 'RPART Predicted Default'))"
   ]
  },
  {
   "cell_type": "code",
   "execution_count": 11,
   "metadata": {},
   "outputs": [
    {
     "name": "stderr",
     "output_type": "stream",
     "text": [
      "Loading required package: lattice\n"
     ]
    },
    {
     "name": "stdout",
     "output_type": "stream",
     "text": [
      "Confusion Matrix and Statistics\n",
      "\n",
      "           Reference\n",
      "Prediction  Fair Good Very Good Premium Ideal\n",
      "  Fair       173   98        42      20    33\n",
      "  Good       196  248       106      70     7\n",
      "  Very Good   21  508       802     579   162\n",
      "  Premium     10  178       916    2002   638\n",
      "  Ideal        2  194      1154     774  4547\n",
      "\n",
      "Overall Statistics\n",
      "                                          \n",
      "               Accuracy : 0.5766          \n",
      "                 95% CI : (0.5682, 0.5849)\n",
      "    No Information Rate : 0.3996          \n",
      "    P-Value [Acc > NIR] : < 2.2e-16       \n",
      "                                          \n",
      "                  Kappa : 0.3879          \n",
      " Mcnemar's Test P-Value : < 2.2e-16       \n",
      "\n",
      "Statistics by Class:\n",
      "\n",
      "                     Class: Fair Class: Good Class: Very Good Class: Premium\n",
      "Sensitivity              0.43035     0.20228           0.2656         0.5811\n",
      "Specificity              0.98524     0.96907           0.8786         0.8264\n",
      "Pos Pred Value           0.47268     0.39553           0.3871         0.5347\n",
      "Neg Pred Value           0.98254     0.92391           0.8056         0.8518\n",
      "Prevalence               0.02982     0.09095           0.2240         0.2556\n",
      "Detection Rate           0.01283     0.01840           0.0595         0.1485\n",
      "Detection Prevalence     0.02715     0.04651           0.1537         0.2777\n",
      "Balanced Accuracy        0.70780     0.58568           0.5721         0.7038\n",
      "                     Class: Ideal\n",
      "Sensitivity                0.8441\n",
      "Specificity                0.7376\n",
      "Pos Pred Value             0.6816\n",
      "Neg Pred Value             0.8766\n",
      "Prevalence                 0.3996\n",
      "Detection Rate             0.3373\n",
      "Detection Prevalence       0.4949\n",
      "Balanced Accuracy          0.7908\n"
     ]
    }
   ],
   "source": [
    "# Calculate Precision, Recall and Accuracy\n",
    "library(caret)\n",
    "\n",
    "print(confusionMatrix(data = nb.pred,  reference = d.test$cut))"
   ]
  },
  {
   "cell_type": "code",
   "execution_count": null,
   "metadata": {},
   "outputs": [],
   "source": [
    "##################################################################################\n",
    "## TP = True Positive Rate              Correctly identified as success\n",
    "## TN = True Negative Rate              Correctly identified as failure\n",
    "## FP = False Positive Rate             Success incorrectly identified as failure\n",
    "## FN = False Negative Rate             Failure incorrectly idd as success\n",
    "###################################################################################\n",
    "##  Accuracy  = (TP+TN)/(TP+TN+FP+FN)\n",
    "##  Precision =  TP/(TP + FP)\n",
    "##  Recall    =  TP/(TP + FN)\n",
    "##  \n",
    "##\n",
    "##\n",
    "######### Overall Statistics\n",
    "## Accuracy  = 0.5766 \n",
    "##\n",
    "##\n",
    "##\n",
    "######### Statistics by class\n",
    "##                         Class: Fair  Class: Good  Class: Very Good  Class: Premium  Class: Ideal\n",
    "# Accuracy                     0.70780     0.58568           0.5721         0.7038       0.7908\n",
    "# Sensitivity/ Recall          0.43035     0.20228           0.2656         0.5811       0.8441\n",
    "# Pos Pred Value/Precision     0.47268     0.39553           0.3871         0.5347       0.6816"
   ]
  }
 ],
 "metadata": {
  "kernelspec": {
   "display_name": "R",
   "language": "R",
   "name": "ir"
  },
  "language_info": {
   "codemirror_mode": "r",
   "file_extension": ".r",
   "mimetype": "text/x-r-source",
   "name": "R",
   "pygments_lexer": "r",
   "version": "3.4.3"
  }
 },
 "nbformat": 4,
 "nbformat_minor": 2
}
